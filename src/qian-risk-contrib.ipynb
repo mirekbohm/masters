{
 "cells": [
  {
   "cell_type": "code",
   "execution_count": 38,
   "metadata": {},
   "outputs": [],
   "source": [
    "import yfinance as yf\n",
    "import numpy as np\n",
    "import pandas as pd\n",
    "import matplotlib.pyplot as plt\n",
    "from datetime import datetime, timedelta"
   ]
  },
  {
   "cell_type": "code",
   "execution_count": 39,
   "metadata": {},
   "outputs": [
    {
     "name": "stderr",
     "output_type": "stream",
     "text": [
      "[*********************100%***********************]  2 of 2 completed\n"
     ]
    },
    {
     "data": {
      "application/vnd.microsoft.datawrangler.viewer.v0+json": {
       "columns": [
        {
         "name": "Date",
         "rawType": "datetime64[ns]",
         "type": "datetime"
        },
        {
         "name": "BND",
         "rawType": "float64",
         "type": "float"
        },
        {
         "name": "IWB",
         "rawType": "float64",
         "type": "float"
        }
       ],
       "conversionMethod": "pd.DataFrame",
       "ref": "e891a384-05ff-4008-8e84-101536791dea",
       "rows": [
        [
         "2005-04-25 00:00:00",
         null,
         "44.14278793334961"
        ],
        [
         "2005-04-26 00:00:00",
         null,
         "43.79022979736328"
        ],
        [
         "2005-04-27 00:00:00",
         null,
         "43.84663772583008"
        ],
        [
         "2005-04-28 00:00:00",
         null,
         "43.36714172363281"
        ],
        [
         "2005-04-29 00:00:00",
         null,
         "43.931236267089844"
        ],
        [
         "2005-05-02 00:00:00",
         null,
         "44.07229995727539"
        ],
        [
         "2005-05-03 00:00:00",
         null,
         "44.093441009521484"
        ],
        [
         "2005-05-04 00:00:00",
         null,
         "44.61524963378906"
        ],
        [
         "2005-05-05 00:00:00",
         null,
         "44.50947189331055"
        ],
        [
         "2005-05-06 00:00:00",
         null,
         "44.49537658691406"
        ],
        [
         "2005-05-09 00:00:00",
         null,
         "44.81271743774414"
        ],
        [
         "2005-05-10 00:00:00",
         null,
         "44.29087448120117"
        ],
        [
         "2005-05-11 00:00:00",
         null,
         "44.551788330078125"
        ],
        [
         "2005-05-12 00:00:00",
         null,
         "44.128684997558594"
        ],
        [
         "2005-05-13 00:00:00",
         null,
         "43.931236267089844"
        ],
        [
         "2005-05-16 00:00:00",
         null,
         "44.35435485839844"
        ],
        [
         "2005-05-17 00:00:00",
         null,
         "44.63641357421875"
        ],
        [
         "2005-05-18 00:00:00",
         null,
         "45.200531005859375"
        ],
        [
         "2005-05-19 00:00:00",
         null,
         "45.36975860595703"
        ],
        [
         "2005-05-20 00:00:00",
         null,
         "45.27104568481445"
        ],
        [
         "2005-05-23 00:00:00",
         null,
         "45.546043395996094"
        ],
        [
         "2005-05-24 00:00:00",
         null,
         "45.49669647216797"
        ],
        [
         "2005-05-25 00:00:00",
         null,
         "45.348609924316406"
        ],
        [
         "2005-05-26 00:00:00",
         null,
         "45.63773727416992"
        ],
        [
         "2005-05-27 00:00:00",
         null,
         "45.71530532836914"
        ],
        [
         "2005-05-31 00:00:00",
         null,
         "45.44734191894531"
        ],
        [
         "2005-06-01 00:00:00",
         null,
         "45.87044143676758"
        ],
        [
         "2005-06-02 00:00:00",
         null,
         "45.919803619384766"
        ],
        [
         "2005-06-03 00:00:00",
         null,
         "45.71530532836914"
        ],
        [
         "2005-06-06 00:00:00",
         null,
         "45.70118713378906"
        ],
        [
         "2005-06-07 00:00:00",
         null,
         "45.75762939453125"
        ],
        [
         "2005-06-08 00:00:00",
         null,
         "45.7082405090332"
        ],
        [
         "2005-06-09 00:00:00",
         null,
         "45.87749099731445"
        ],
        [
         "2005-06-10 00:00:00",
         null,
         "45.75762939453125"
        ],
        [
         "2005-06-13 00:00:00",
         null,
         "45.89158630371094"
        ],
        [
         "2005-06-14 00:00:00",
         null,
         "46.018524169921875"
        ],
        [
         "2005-06-15 00:00:00",
         null,
         "46.04672622680664"
        ],
        [
         "2005-06-16 00:00:00",
         null,
         "46.29353332519531"
        ],
        [
         "2005-06-17 00:00:00",
         null,
         "46.50508117675781"
        ],
        [
         "2005-06-20 00:00:00",
         null,
         "46.460540771484375"
        ],
        [
         "2005-06-21 00:00:00",
         null,
         "46.347412109375"
        ],
        [
         "2005-06-22 00:00:00",
         null,
         "46.53122329711914"
        ],
        [
         "2005-06-23 00:00:00",
         null,
         "45.92317581176758"
        ],
        [
         "2005-06-24 00:00:00",
         null,
         "45.53428649902344"
        ],
        [
         "2005-06-27 00:00:00",
         null,
         "45.605003356933594"
        ],
        [
         "2005-06-28 00:00:00",
         null,
         "45.94438552856445"
        ],
        [
         "2005-06-29 00:00:00",
         null,
         "45.94438552856445"
        ],
        [
         "2005-06-30 00:00:00",
         null,
         "45.57670593261719"
        ],
        [
         "2005-07-01 00:00:00",
         null,
         "45.859527587890625"
        ],
        [
         "2005-07-05 00:00:00",
         null,
         "46.19892120361328"
        ]
       ],
       "shape": {
        "columns": 2,
        "rows": 5029
       }
      },
      "text/html": [
       "<div>\n",
       "<style scoped>\n",
       "    .dataframe tbody tr th:only-of-type {\n",
       "        vertical-align: middle;\n",
       "    }\n",
       "\n",
       "    .dataframe tbody tr th {\n",
       "        vertical-align: top;\n",
       "    }\n",
       "\n",
       "    .dataframe thead th {\n",
       "        text-align: right;\n",
       "    }\n",
       "</style>\n",
       "<table border=\"1\" class=\"dataframe\">\n",
       "  <thead>\n",
       "    <tr style=\"text-align: right;\">\n",
       "      <th>Ticker</th>\n",
       "      <th>BND</th>\n",
       "      <th>IWB</th>\n",
       "    </tr>\n",
       "    <tr>\n",
       "      <th>Date</th>\n",
       "      <th></th>\n",
       "      <th></th>\n",
       "    </tr>\n",
       "  </thead>\n",
       "  <tbody>\n",
       "    <tr>\n",
       "      <th>2005-04-25</th>\n",
       "      <td>NaN</td>\n",
       "      <td>44.142788</td>\n",
       "    </tr>\n",
       "    <tr>\n",
       "      <th>2005-04-26</th>\n",
       "      <td>NaN</td>\n",
       "      <td>43.790230</td>\n",
       "    </tr>\n",
       "    <tr>\n",
       "      <th>2005-04-27</th>\n",
       "      <td>NaN</td>\n",
       "      <td>43.846638</td>\n",
       "    </tr>\n",
       "    <tr>\n",
       "      <th>2005-04-28</th>\n",
       "      <td>NaN</td>\n",
       "      <td>43.367142</td>\n",
       "    </tr>\n",
       "    <tr>\n",
       "      <th>2005-04-29</th>\n",
       "      <td>NaN</td>\n",
       "      <td>43.931236</td>\n",
       "    </tr>\n",
       "    <tr>\n",
       "      <th>...</th>\n",
       "      <td>...</td>\n",
       "      <td>...</td>\n",
       "    </tr>\n",
       "    <tr>\n",
       "      <th>2025-04-11</th>\n",
       "      <td>72.019997</td>\n",
       "      <td>292.429993</td>\n",
       "    </tr>\n",
       "    <tr>\n",
       "      <th>2025-04-14</th>\n",
       "      <td>72.430000</td>\n",
       "      <td>295.149994</td>\n",
       "    </tr>\n",
       "    <tr>\n",
       "      <th>2025-04-15</th>\n",
       "      <td>72.610001</td>\n",
       "      <td>294.420013</td>\n",
       "    </tr>\n",
       "    <tr>\n",
       "      <th>2025-04-16</th>\n",
       "      <td>72.809998</td>\n",
       "      <td>288.290009</td>\n",
       "    </tr>\n",
       "    <tr>\n",
       "      <th>2025-04-17</th>\n",
       "      <td>72.650002</td>\n",
       "      <td>288.890015</td>\n",
       "    </tr>\n",
       "  </tbody>\n",
       "</table>\n",
       "<p>5029 rows × 2 columns</p>\n",
       "</div>"
      ],
      "text/plain": [
       "Ticker            BND         IWB\n",
       "Date                             \n",
       "2005-04-25        NaN   44.142788\n",
       "2005-04-26        NaN   43.790230\n",
       "2005-04-27        NaN   43.846638\n",
       "2005-04-28        NaN   43.367142\n",
       "2005-04-29        NaN   43.931236\n",
       "...               ...         ...\n",
       "2025-04-11  72.019997  292.429993\n",
       "2025-04-14  72.430000  295.149994\n",
       "2025-04-15  72.610001  294.420013\n",
       "2025-04-16  72.809998  288.290009\n",
       "2025-04-17  72.650002  288.890015\n",
       "\n",
       "[5029 rows x 2 columns]"
      ]
     },
     "execution_count": 39,
     "metadata": {},
     "output_type": "execute_result"
    }
   ],
   "source": [
    "tickers = ['IWB', 'BND']\n",
    "weights = [0.60, 0.40] # 60% SPY, 40% BND\n",
    "\n",
    "# Define date range (e.g., last 10 years)\n",
    "end_dt = datetime(2025, 4, 20)\n",
    "start_dt = end_dt - timedelta(days=20*365)\n",
    "\n",
    "start_date_str = start_dt.strftime('%Y-%m-%d')\n",
    "end_date_str = end_dt.strftime('%Y-%m-%d')\n",
    "\n",
    "prices = yf.download(tickers, start=start_date_str, end=end_date_str)[\"Close\"]\n",
    "prices"
   ]
  },
  {
   "cell_type": "code",
   "execution_count": 40,
   "metadata": {},
   "outputs": [
    {
     "data": {
      "text/plain": [
       "Date\n",
       "2007-04-11   -0.004407\n",
       "2007-04-12    0.003538\n",
       "2007-04-13    0.001107\n",
       "2007-04-16    0.006433\n",
       "2007-04-17    0.001538\n",
       "                ...   \n",
       "2025-04-11    0.009315\n",
       "2025-04-14    0.007858\n",
       "2025-04-15   -0.000490\n",
       "2025-04-16   -0.011391\n",
       "2025-04-17    0.000370\n",
       "Length: 4536, dtype: float64"
      ]
     },
     "execution_count": 40,
     "metadata": {},
     "output_type": "execute_result"
    }
   ],
   "source": [
    "returns = prices.pct_change().dropna()\n",
    "weights = {\"IWB\": 0.6, \"BND\": 0.4}\n",
    "portfolio_returns = sum([returns[ticker] * weights[ticker] for ticker in returns.columns])\n",
    "portfolio_returns"
   ]
  },
  {
   "cell_type": "code",
   "execution_count": 41,
   "metadata": {},
   "outputs": [],
   "source": [
    "sigma_sq_portfolio = portfolio_returns.var()\n",
    "sigma_sq_stocks = pow(weights[\"IWB\"], 2) * returns[\"IWB\"].var() + weights[\"IWB\"] * weights[\"BND\"] * np.cov([returns[\"BND\"], returns[\"IWB\"]])[0,1]\n",
    "sigma_sq_bonds = pow(weights[\"BND\"], 2) * returns[\"BND\"].var() + weights[\"IWB\"] * weights[\"BND\"] * np.cov([returns[\"BND\"], returns[\"IWB\"]])[0,1]\n",
    "\n",
    "p_stocks = sigma_sq_stocks/sigma_sq_portfolio\n",
    "p_bonds =sigma_sq_bonds/sigma_sq_portfolio"
   ]
  },
  {
   "cell_type": "code",
   "execution_count": 53,
   "metadata": {},
   "outputs": [
    {
     "name": "stdout",
     "output_type": "stream",
     "text": [
      "5.8390569191146827e-05\n",
      "5.6822969162952554e-05\n",
      "1.5676000281942652e-06\n"
     ]
    }
   ],
   "source": [
    "print(sigma_sq_portfolio)\n",
    "print(sigma_sq_stocks)\n",
    "print(sigma_sq_bonds)"
   ]
  },
  {
   "cell_type": "code",
   "execution_count": 52,
   "metadata": {},
   "outputs": [
    {
     "data": {
      "image/png": "[encoded data removed]",
      "text/plain": [
       "<Figure size 900x600 with 1 Axes>"
      ]
     },
     "metadata": {},
     "output_type": "display_data"
    }
   ],
   "source": [
    "fig, ax = plt.subplots(figsize=(9, 6))\n",
    "\n",
    "assets = ['Shares Russell 1000 ETF (IWB)', 'Vanguard Total Bond Market Index Fund (BND)']\n",
    "percent_values = [p_stocks, p_bonds]\n",
    "\n",
    "bars = ax.bar(assets, percent_values, color=['aquamarine', 'violet'])\n",
    "ax.set_title('Riziková kontribuce aktiv v portfoliu')\n",
    "ax.set_ylabel('Procentní riziková kontribuce')\n",
    "ax.yaxis.set_major_formatter(plt.FuncFormatter(lambda y, _: f'{y:.0%}'))\n",
    "\n",
    "for bar in bars:\n",
    "  height = bar.get_height()\n",
    "  ax.annotate(f'{height:.1%}', \n",
    "        xy=(bar.get_x() + bar.get_width()/2, height),\n",
    "        xytext=(0, 3),\n",
    "        textcoords=\"offset points\",\n",
    "        ha='center', va='bottom')\n",
    "\n",
    "plt.tight_layout()\n",
    "plt.show()"
   ]
  },
  {
   "cell_type": "code",
   "execution_count": null,
   "metadata": {},
   "outputs": [],
   "source": []
  }
 ],
 "metadata": {
  "kernelspec": {
   "display_name": ".venv",
   "language": "python",
   "name": "python3"
  },
  "language_info": {
   "codemirror_mode": {
    "name": "ipython",
    "version": 3
   },
   "file_extension": ".py",
   "mimetype": "text/x-python",
   "name": "python",
   "nbconvert_exporter": "python",
   "pygments_lexer": "ipython3",
   "version": "3.12.9"
  }
 },
 "nbformat": 4,
 "nbformat_minor": 2
}
